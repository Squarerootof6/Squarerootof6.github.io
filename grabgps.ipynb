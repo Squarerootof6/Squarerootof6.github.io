{
 "cells": [
  {
   "cell_type": "code",
   "execution_count": 36,
   "metadata": {},
   "outputs": [
    {
     "name": "stdout",
     "output_type": "stream",
     "text": [
      "['C:/Users/Squar/Documents/GitHub/Squarerootof6.github.io/travelling/images/fulls/丽江\\\\DSC09525.jpg', 'C:/Users/Squar/Documents/GitHub/Squarerootof6.github.io/travelling/images/fulls/丽江\\\\DSC09526.jpg', 'C:/Users/Squar/Documents/GitHub/Squarerootof6.github.io/travelling/images/fulls/丽江\\\\DSC09527.jpg', 'C:/Users/Squar/Documents/GitHub/Squarerootof6.github.io/travelling/images/fulls/丽江\\\\DSC09534.jpg', 'C:/Users/Squar/Documents/GitHub/Squarerootof6.github.io/travelling/images/fulls/丽江\\\\DSC09544.jpg', 'C:/Users/Squar/Documents/GitHub/Squarerootof6.github.io/travelling/images/fulls/丽江\\\\DSC09552.jpg', 'C:/Users/Squar/Documents/GitHub/Squarerootof6.github.io/travelling/images/fulls/丽江\\\\DSC09568.jpg', 'C:/Users/Squar/Documents/GitHub/Squarerootof6.github.io/travelling/images/fulls/丽江\\\\DSC09576.jpg', 'C:/Users/Squar/Documents/GitHub/Squarerootof6.github.io/travelling/images/fulls/丽江\\\\DSC09577.jpg', 'C:/Users/Squar/Documents/GitHub/Squarerootof6.github.io/travelling/images/fulls/丽江\\\\DSC09580.jpg', 'C:/Users/Squar/Documents/GitHub/Squarerootof6.github.io/travelling/images/fulls/丽江\\\\DSC09589.jpg', 'C:/Users/Squar/Documents/GitHub/Squarerootof6.github.io/travelling/images/fulls/丽江\\\\DSC09592.jpg', 'C:/Users/Squar/Documents/GitHub/Squarerootof6.github.io/travelling/images/fulls/丽江\\\\DSC09594.jpg', 'C:/Users/Squar/Documents/GitHub/Squarerootof6.github.io/travelling/images/fulls/丽江\\\\DSC09595.jpg', 'C:/Users/Squar/Documents/GitHub/Squarerootof6.github.io/travelling/images/fulls/丽江\\\\DSC09596.jpg', 'C:/Users/Squar/Documents/GitHub/Squarerootof6.github.io/travelling/images/fulls/丽江\\\\DSC09597.jpg', 'C:/Users/Squar/Documents/GitHub/Squarerootof6.github.io/travelling/images/fulls/丽江\\\\DSC09611.jpg', 'C:/Users/Squar/Documents/GitHub/Squarerootof6.github.io/travelling/images/fulls/丽江\\\\DSC09613.jpg', 'C:/Users/Squar/Documents/GitHub/Squarerootof6.github.io/travelling/images/fulls/丽江\\\\DSC09617.jpg', 'C:/Users/Squar/Documents/GitHub/Squarerootof6.github.io/travelling/images/fulls/丽江\\\\DSC09623.jpg', 'C:/Users/Squar/Documents/GitHub/Squarerootof6.github.io/travelling/images/fulls/丽江\\\\DSC09625.jpg', 'C:/Users/Squar/Documents/GitHub/Squarerootof6.github.io/travelling/images/fulls/丽江\\\\DSC09626.jpg', 'C:/Users/Squar/Documents/GitHub/Squarerootof6.github.io/travelling/images/fulls/丽江\\\\DSC09633.jpg', 'C:/Users/Squar/Documents/GitHub/Squarerootof6.github.io/travelling/images/fulls/丽江\\\\DSC09642.jpg', 'C:/Users/Squar/Documents/GitHub/Squarerootof6.github.io/travelling/images/fulls/丽江\\\\DSC09645.jpg', 'C:/Users/Squar/Documents/GitHub/Squarerootof6.github.io/travelling/images/fulls/丽江\\\\DSC09646.jpg', 'C:/Users/Squar/Documents/GitHub/Squarerootof6.github.io/travelling/images/fulls/丽江\\\\DSC09655.jpg', 'C:/Users/Squar/Documents/GitHub/Squarerootof6.github.io/travelling/images/fulls/丽江\\\\DSC09659.jpg', 'C:/Users/Squar/Documents/GitHub/Squarerootof6.github.io/travelling/images/fulls/丽江\\\\DSC09677.jpg', 'C:/Users/Squar/Documents/GitHub/Squarerootof6.github.io/travelling/images/fulls/丽江\\\\DSC09678.jpg', 'C:/Users/Squar/Documents/GitHub/Squarerootof6.github.io/travelling/images/fulls/丽江\\\\DSC09683.jpg', 'C:/Users/Squar/Documents/GitHub/Squarerootof6.github.io/travelling/images/fulls/丽江\\\\DSC09684.jpg', 'C:/Users/Squar/Documents/GitHub/Squarerootof6.github.io/travelling/images/fulls/丽江\\\\DSC09685.jpg', 'C:/Users/Squar/Documents/GitHub/Squarerootof6.github.io/travelling/images/fulls/丽江\\\\DSC09690.jpg']\n",
      "Image Information:\n",
      "-------------------\n",
      "GPS Info:\n",
      "DateTimeOriginal: 2024:01:19 12:18:03\n"
     ]
    },
    {
     "ename": "KeyError",
     "evalue": "'GPSLatitude'",
     "output_type": "error",
     "traceback": [
      "\u001b[1;31m---------------------------------------------------------------------------\u001b[0m",
      "\u001b[1;31mKeyError\u001b[0m                                  Traceback (most recent call last)",
      "Cell \u001b[1;32mIn[36], line 59\u001b[0m\n\u001b[0;32m     56\u001b[0m \u001b[38;5;28;01mfor\u001b[39;00m image_path \u001b[38;5;129;01min\u001b[39;00m imglist:\n\u001b[0;32m     57\u001b[0m     \u001b[38;5;66;03m#image_path = \"C:/Users/Squar/Desktop/IMG_20240211_164142.jpg\"  # 修改为你的图片路径\u001b[39;00m\n\u001b[0;32m     58\u001b[0m     exif_data,gps_info \u001b[38;5;241m=\u001b[39m extract_image_info(image_path)\n\u001b[1;32m---> 59\u001b[0m     lt \u001b[38;5;241m=\u001b[39m np\u001b[38;5;241m.\u001b[39mfloat32(gps_info[\u001b[38;5;124m'\u001b[39m\u001b[38;5;124mGPSLatitude\u001b[39m\u001b[38;5;124m'\u001b[39m][\u001b[38;5;241m0\u001b[39m]\u001b[38;5;241m+\u001b[39mgps_info[\u001b[38;5;124m'\u001b[39m\u001b[38;5;124mGPSLatitude\u001b[39m\u001b[38;5;124m'\u001b[39m][\u001b[38;5;241m1\u001b[39m]\u001b[38;5;241m/\u001b[39m\u001b[38;5;241m60\u001b[39m\u001b[38;5;241m+\u001b[39mgps_info[\u001b[38;5;124m'\u001b[39m\u001b[38;5;124mGPSLatitude\u001b[39m\u001b[38;5;124m'\u001b[39m][\u001b[38;5;241m2\u001b[39m]\u001b[38;5;241m/\u001b[39m\u001b[38;5;241m3600\u001b[39m)\n\u001b[0;32m     60\u001b[0m     lo \u001b[38;5;241m=\u001b[39m np\u001b[38;5;241m.\u001b[39mfloat32(gps_info[\u001b[38;5;124m'\u001b[39m\u001b[38;5;124mGPSLongitude\u001b[39m\u001b[38;5;124m'\u001b[39m][\u001b[38;5;241m0\u001b[39m]\u001b[38;5;241m+\u001b[39mgps_info[\u001b[38;5;124m'\u001b[39m\u001b[38;5;124mGPSLongitude\u001b[39m\u001b[38;5;124m'\u001b[39m][\u001b[38;5;241m1\u001b[39m]\u001b[38;5;241m/\u001b[39m\u001b[38;5;241m60\u001b[39m\u001b[38;5;241m+\u001b[39mgps_info[\u001b[38;5;124m'\u001b[39m\u001b[38;5;124mGPSLongitude\u001b[39m\u001b[38;5;124m'\u001b[39m][\u001b[38;5;241m2\u001b[39m]\u001b[38;5;241m/\u001b[39m\u001b[38;5;241m3600\u001b[39m)\n\u001b[0;32m     61\u001b[0m     \u001b[38;5;28mprint\u001b[39m(lo,lt,gps_info[\u001b[38;5;124m'\u001b[39m\u001b[38;5;124mGPSDateStamp\u001b[39m\u001b[38;5;124m'\u001b[39m])\n",
      "\u001b[1;31mKeyError\u001b[0m: 'GPSLatitude'"
     ]
    }
   ],
   "source": [
    "from PIL import Image\n",
    "from PIL.ExifTags import TAGS, GPSTAGS\n",
    "\n",
    "def get_exif_data(image_path):\n",
    "    \"\"\"\n",
    "    从图片中提取EXIF数据\n",
    "    \"\"\"\n",
    "    exif_data = {}\n",
    "    try:\n",
    "        image = Image.open(image_path)\n",
    "        if hasattr(image, '_getexif'):\n",
    "            exif_info = image._getexif()\n",
    "            if exif_info is not None:\n",
    "                for tag, value in exif_info.items():\n",
    "                    decoded_tag = TAGS.get(tag, tag)\n",
    "                    exif_data[decoded_tag] = value\n",
    "    except Exception as e:\n",
    "        print(\"Error:\", e)\n",
    "    return exif_data\n",
    "\n",
    "def get_gps_info(exif_data):\n",
    "    \"\"\"\n",
    "    从EXIF数据中提取GPS信息\n",
    "    \"\"\"\n",
    "    gps_info = {}\n",
    "    if 'GPSInfo' in exif_data:\n",
    "        for tag, value in exif_data['GPSInfo'].items():\n",
    "            decoded_tag = GPSTAGS.get(tag, tag)\n",
    "            gps_info[decoded_tag] = value\n",
    "    return gps_info\n",
    "\n",
    "def extract_image_info(image_path):\n",
    "    \"\"\"\n",
    "    提取图片信息：GPS定位、拍摄时间等\n",
    "    \"\"\"\n",
    "    exif_data = get_exif_data(image_path)\n",
    "    gps_info = get_gps_info(exif_data)\n",
    "\n",
    "    print(\"Image Information:\")\n",
    "    print(\"-------------------\")\n",
    "    print(\"GPS Info:\")\n",
    "    for key, value in gps_info.items():\n",
    "        print(f\"{key}: {value}\")\n",
    "\n",
    "    if 'DateTimeOriginal' in exif_data:\n",
    "        print(f\"DateTimeOriginal: {exif_data['DateTimeOriginal']}\")\n",
    "    elif 'DateTime' in exif_data:\n",
    "        print(f\"DateTime: {exif_data['DateTime']}\")\n",
    "    else:\n",
    "        print(\"No capture time information found.\")\n",
    "    return exif_data,gps_info\n",
    "import numpy as np\n",
    "from glob import glob\n",
    "imglist = glob('C:/Users/Squar/Documents/GitHub/Squarerootof6.github.io/travelling/images/fulls/丽江/*.jpg')\n",
    "print(imglist)\n",
    "for image_path in imglist:\n",
    "    #image_path = \"C:/Users/Squar/Desktop/IMG_20240211_164142.jpg\"  # 修改为你的图片路径\n",
    "    exif_data,gps_info = extract_image_info(image_path)\n",
    "    lt = np.float32(gps_info['GPSLatitude'][0]+gps_info['GPSLatitude'][1]/60+gps_info['GPSLatitude'][2]/3600)\n",
    "    lo = np.float32(gps_info['GPSLongitude'][0]+gps_info['GPSLongitude'][1]/60+gps_info['GPSLongitude'][2]/3600)\n",
    "    print(lo,lt,gps_info['GPSDateStamp'])\n"
   ]
  },
  {
   "cell_type": "code",
   "execution_count": 37,
   "metadata": {},
   "outputs": [
    {
     "name": "stdout",
     "output_type": "stream",
     "text": [
      "111.45.3.65\n",
      "192.168.0.101\n",
      "Referer: {'Cache-Control': 'max-age=86400', 'Connection': 'keep-alive', 'Content-Length': '46', 'Content-Type': 'application/json', 'Date': 'Sat, 17 Feb 2024 15:47:59 GMT', 'Expires': 'Sun, 18 Feb 2024 15:47:59 GMT', 'Http_x_bd_logid': '2879641899', 'Http_x_bd_logid64': '2879641470454349322', 'Http_x_bd_product': 'map', 'Http_x_bd_subsys': 'apimap', 'Server': 'apache'}\n",
      "{'status': 240, 'message': 'APP 服务被禁用'}\n"
     ]
    },
    {
     "ename": "KeyError",
     "evalue": "'result'",
     "output_type": "error",
     "traceback": [
      "\u001b[1;31m---------------------------------------------------------------------------\u001b[0m",
      "\u001b[1;31mKeyError\u001b[0m                                  Traceback (most recent call last)",
      "Cell \u001b[1;32mIn[37], line 40\u001b[0m\n\u001b[0;32m     23\u001b[0m ak \u001b[38;5;241m=\u001b[39m \u001b[38;5;124m'\u001b[39m\u001b[38;5;124m11KhO6AwgKNDOIiu4N6AEHozzcNOn4cq\u001b[39m\u001b[38;5;124m'\u001b[39m    \n\u001b[0;32m     27\u001b[0m \u001b[38;5;124;03m'''#将文档中每一行经纬度，请求接口，返回并打印数据\u001b[39;00m\n\u001b[0;32m     28\u001b[0m \u001b[38;5;124;03mcity_list = []\u001b[39;00m\n\u001b[0;32m     29\u001b[0m \u001b[38;5;124;03maddress_list = []\u001b[39;00m\n\u001b[1;32m   (...)\u001b[0m\n\u001b[0;32m     38\u001b[0m \u001b[38;5;124;03m    sleep_time = random.uniform(0.04, 0.2)\u001b[39;00m\n\u001b[0;32m     39\u001b[0m \u001b[38;5;124;03m    time.sleep(sleep_time)   #个人开发者API请求每秒最多30次，休息一下'''\u001b[39;00m\n\u001b[1;32m---> 40\u001b[0m get_address(lt,lo,ak)\n",
      "Cell \u001b[1;32mIn[37], line 17\u001b[0m, in \u001b[0;36mget_address\u001b[1;34m(lat, lng, ak)\u001b[0m\n\u001b[0;32m     15\u001b[0m data \u001b[38;5;241m=\u001b[39m response\u001b[38;5;241m.\u001b[39mjson()\n\u001b[0;32m     16\u001b[0m \u001b[38;5;28mprint\u001b[39m(data)\n\u001b[1;32m---> 17\u001b[0m city \u001b[38;5;241m=\u001b[39m data[\u001b[38;5;124m'\u001b[39m\u001b[38;5;124mresult\u001b[39m\u001b[38;5;124m'\u001b[39m][\u001b[38;5;124m'\u001b[39m\u001b[38;5;124maddressComponent\u001b[39m\u001b[38;5;124m'\u001b[39m][\u001b[38;5;124m'\u001b[39m\u001b[38;5;124mcity\u001b[39m\u001b[38;5;124m'\u001b[39m]    \u001b[38;5;66;03m#解析城市名\u001b[39;00m\n\u001b[0;32m     18\u001b[0m address \u001b[38;5;241m=\u001b[39m data[\u001b[38;5;124m'\u001b[39m\u001b[38;5;124mresult\u001b[39m\u001b[38;5;124m'\u001b[39m][\u001b[38;5;124m'\u001b[39m\u001b[38;5;124mformatted_address\u001b[39m\u001b[38;5;124m'\u001b[39m]        \u001b[38;5;66;03m#解析地址\u001b[39;00m\n\u001b[0;32m     19\u001b[0m \u001b[38;5;28;01mreturn\u001b[39;00m city, address\n",
      "\u001b[1;31mKeyError\u001b[0m: 'result'"
     ]
    }
   ],
   "source": [
    "import requests\n",
    "import pandas as pd\n",
    "import time\n",
    "import random\n",
    " \n",
    "#通过经纬度获得城市名和城市地址（省市区）\n",
    "def get_address(lat, lng, ak):\n",
    "    url = f\"https://api.map.baidu.com/reverse_geocoding/v3/?ak={ak}&output=json&coordtype=wgs84ll&location={lat},{lng}\"\n",
    "    response = requests.get(url,stream=True)\n",
    "    print (response.raw._connection.sock.getpeername()[0])\n",
    "    print (response.raw._connection.sock.getsockname()[0])\n",
    "\n",
    "    referer = response.headers\n",
    "    print(\"Referer:\", referer)\n",
    "    data = response.json()\n",
    "    print(data)\n",
    "    city = data['result']['addressComponent']['city']    #解析城市名\n",
    "    address = data['result']['formatted_address']        #解析地址\n",
    "    return city, address\n",
    " \n",
    " \n",
    "#替换成自己的ak\n",
    "ak = '11KhO6AwgKNDOIiu4N6AEHozzcNOn4cq'    \n",
    " \n",
    "\n",
    " \n",
    "'''#将文档中每一行经纬度，请求接口，返回并打印数据\n",
    "city_list = []\n",
    "address_list = []\n",
    "for index, row in df.iterrows():\n",
    "    lat = row['latitude']\n",
    "    lng = row['longitude']\n",
    "    city1, address1 = get_address(lat, lng, ak)\n",
    "    print(city1, address1)\n",
    "    #将数据加入列表中\n",
    "    city_list.append(city1)\n",
    "    address_list.append(address1)\n",
    "    sleep_time = random.uniform(0.04, 0.2)\n",
    "    time.sleep(sleep_time)   #个人开发者API请求每秒最多30次，休息一下'''\n",
    "get_address(lt,lo,ak)\n"
   ]
  },
  {
   "cell_type": "code",
   "execution_count": 20,
   "metadata": {},
   "outputs": [
    {
     "name": "stdout",
     "output_type": "stream",
     "text": [
      "当前主机名称为 : Squareroot\n",
      "当前主机的IP为: 192.168.0.101\n",
      "(<AddressFamily.AF_INET6: 23>, 0, 0, '', ('fe80::14fc:1a61:f5a:15', 0, 0, 17))\n",
      "(<AddressFamily.AF_INET: 2>, 0, 0, '', ('192.168.0.101', 0))\n",
      "(<AddressFamily.AF_INET: 2>, 0, 0, '', ('100.69.146.60', 0))\n",
      "(<AddressFamily.AF_INET6: 23>, 0, 0, '', ('fd7a:115c:a1e0:ab12:4843:cd96:6245:923c', 0, 0, 0))\n",
      "当前主机IPV4地址为:192.168.0.101\n",
      "当前主机IPV4地址为:192.168.0.101\n"
     ]
    }
   ],
   "source": [
    "import socket\n",
    "\n",
    "# 查看当前主机名\n",
    "print('当前主机名称为 : ' + socket.gethostname())\n",
    "\n",
    "# 根据主机名称获取当前IP\n",
    "print('当前主机的IP为: ' + socket.gethostbyname(socket.gethostname()))\n",
    "\n",
    "\n",
    "# 下方代码为获取当前主机IPV4 和IPV6的所有IP地址(所有系统均通用)\n",
    "addrs = socket.getaddrinfo(socket.gethostname(),None)\n",
    "\n",
    "for item in addrs:\n",
    "    print(item)\n",
    "\n",
    "# 仅获取当前IPV4地址\n",
    "print('当前主机IPV4地址为:' + [item[4][0] for item in addrs if ':' not in item[4][0]][0])\n",
    "\n",
    "# 同上仅获取当前IPV4地址\n",
    "for item in addrs:\n",
    "    if ':' not in item[4][0]:\n",
    "        print('当前主机IPV4地址为:' + item[4][0])\n",
    "        break"
   ]
  },
  {
   "cell_type": "code",
   "execution_count": 22,
   "metadata": {},
   "outputs": [
    {
     "name": "stdout",
     "output_type": "stream",
     "text": [
      "120.232.145.144\n",
      "192.168.0.101\n"
     ]
    }
   ],
   "source": [
    "import requests\n",
    "\n",
    "rsp = requests.get(\"http://www.baidu.com\", stream=True)\n",
    "print (rsp.raw._connection.sock.getpeername()[0])\n",
    "print (rsp.raw._connection.sock.getsockname()[0])"
   ]
  },
  {
   "cell_type": "code",
   "execution_count": 41,
   "metadata": {},
   "outputs": [
    {
     "data": {
      "text/plain": [
       "(360, 247)"
      ]
     },
     "execution_count": 41,
     "metadata": {},
     "output_type": "execute_result"
    }
   ],
   "source": [
    "img = Image.open('travelling/images/thumbs/07.jpg')\n",
    "img.size"
   ]
  },
  {
   "cell_type": "code",
   "execution_count": 50,
   "metadata": {},
   "outputs": [
    {
     "name": "stdout",
     "output_type": "stream",
     "text": [
      "图片数： 34\n"
     ]
    }
   ],
   "source": [
    "from PIL import Image\n",
    "import os\n",
    "\n",
    "def crop_and_save_image(image_path, output_folder, i):\n",
    "    # 打开图像\n",
    "    img = Image.open(image_path)\n",
    "    \n",
    "    # 保存原始图像\n",
    "    fulls_folder = os.path.join(output_folder, 'fulls')\n",
    "    os.makedirs(fulls_folder, exist_ok=True)\n",
    "    fulls_path = os.path.join(fulls_folder, f\"{i:02d}.jpg\")\n",
    "    img.save(fulls_path)\n",
    "\n",
    "    # 缩略图像，保持纵横比\n",
    "    width, height = img.size\n",
    "    target_width, target_height = 430, 383\n",
    "    if width/target_width > height/target_height:\n",
    "        img.thumbnail((target_height/height*width, target_height))\n",
    "    else:\n",
    "        img.thumbnail((target_width, target_width*height/width))\n",
    "    # 计算裁剪区域\n",
    "    width, height = img.size\n",
    "    left = (width - target_width) / 2\n",
    "    top = (height - target_height) / 2\n",
    "    right = (width + target_width) / 2\n",
    "    bottom = (height + target_height) / 2\n",
    "    # 裁剪图像\n",
    "    cropped_img = img.crop((left, top, right, bottom))\n",
    "    # 保存裁剪后的图像\n",
    "    thumbs_folder = os.path.join(output_folder, 'thumbs')\n",
    "    os.makedirs(thumbs_folder, exist_ok=True)\n",
    "    thumbs_path = os.path.join(thumbs_folder, f\"{i:02d}.jpg\")\n",
    "    cropped_img.save(thumbs_path)\n",
    "\n",
    "if __name__ == \"__main__\":\n",
    "    city='丽江'\n",
    "    input_folder = \"./travelling/images/\"+city\n",
    "\n",
    "    # 假设 input_folder 中包含了要处理的图片文件\n",
    "    image_files = [f for f in os.listdir(input_folder) if f.endswith('.jpg')]\n",
    "    print('图片数：',len(image_files))\n",
    "    # 对每张图片进行处理\n",
    "    for i, image_file in enumerate(image_files, start=1):\n",
    "        image_path = os.path.join(input_folder, image_file)\n",
    "        crop_and_save_image(image_path, input_folder, i)\n"
   ]
  },
  {
   "cell_type": "code",
   "execution_count": null,
   "metadata": {},
   "outputs": [],
   "source": []
  }
 ],
 "metadata": {
  "kernelspec": {
   "display_name": "base",
   "language": "python",
   "name": "python3"
  },
  "language_info": {
   "codemirror_mode": {
    "name": "ipython",
    "version": 3
   },
   "file_extension": ".py",
   "mimetype": "text/x-python",
   "name": "python",
   "nbconvert_exporter": "python",
   "pygments_lexer": "ipython3",
   "version": "3.11.5"
  }
 },
 "nbformat": 4,
 "nbformat_minor": 2
}
